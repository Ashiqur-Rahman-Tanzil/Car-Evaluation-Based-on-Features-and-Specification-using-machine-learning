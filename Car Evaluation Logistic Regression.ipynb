{
 "cells": [
  {
   "cell_type": "markdown",
   "source": [
    "# Imports"
   ],
   "metadata": {}
  },
  {
   "cell_type": "code",
   "execution_count": 79,
   "source": [
    "import sklearn\r\n",
    "from sklearn.utils import shuffle\r\n",
    "from sklearn.neighbors import KNeighborsClassifier\r\n",
    "import pandas as pd\r\n",
    "import numpy as np\r\n",
    "from sklearn import linear_model, preprocessing # why\r\n",
    "from sklearn.linear_model import LogisticRegression"
   ],
   "outputs": [],
   "metadata": {}
  },
  {
   "cell_type": "markdown",
   "source": [
    "# # Load Data\n"
   ],
   "metadata": {}
  },
  {
   "cell_type": "code",
   "execution_count": 80,
   "source": [
    "data = pd.read_csv(\"car.data\")\r\n",
    "print(data.head())\r\n"
   ],
   "outputs": [
    {
     "output_type": "stream",
     "name": "stdout",
     "text": [
      "  buying  maint door persons lug_boot safety  class\n",
      "0  vhigh  vhigh    2       2    small    low  unacc\n",
      "1  vhigh  vhigh    2       2    small    med  unacc\n",
      "2  vhigh  vhigh    2       2    small   high  unacc\n",
      "3  vhigh  vhigh    2       2      med    low  unacc\n",
      "4  vhigh  vhigh    2       2      med    med  unacc\n"
     ]
    }
   ],
   "metadata": {}
  },
  {
   "cell_type": "markdown",
   "source": [
    "# Modifying Data\n"
   ],
   "metadata": {}
  },
  {
   "cell_type": "code",
   "execution_count": 81,
   "source": [
    "le = preprocessing.LabelEncoder()\r\n",
    "\r\n",
    "buying = le.fit_transform(list(data[\"buying\"]))\r\n",
    "maint = le.fit_transform(list(data[\"maint\"]))\r\n",
    "door = le.fit_transform(list(data[\"door\"]))\r\n",
    "persons = le.fit_transform(list(data[\"persons\"]))\r\n",
    "lug_boot = le.fit_transform(list(data[\"lug_boot\"]))\r\n",
    "safety = le.fit_transform(list(data[\"safety\"]))\r\n",
    "cls = le.fit_transform(list(data[\"class\"]))\r\n",
    "\r\n",
    "X = list(zip(buying, maint, door, persons, lug_boot, safety))  # features\r\n",
    "y = list(cls) #labels\r\n",
    "\r\n",
    "x_train, x_test, y_train, y_test = sklearn.model_selection.train_test_split(X, y, test_size = 0.1)"
   ],
   "outputs": [],
   "metadata": {}
  },
  {
   "cell_type": "markdown",
   "source": [
    "# Training"
   ],
   "metadata": {}
  },
  {
   "cell_type": "code",
   "execution_count": 93,
   "source": [
    "modell = LogisticRegression(multi_class='multinomial', solver='lbfgs')\r\n",
    "\r\n",
    "modell.fit(x_train, y_train)\r\n",
    "modell.score(x_train, y_train)\r\n"
   ],
   "outputs": [
    {
     "output_type": "execute_result",
     "data": {
      "text/plain": [
       "0.6874598070739549"
      ]
     },
     "metadata": {},
     "execution_count": 93
    }
   ],
   "metadata": {}
  },
  {
   "cell_type": "markdown",
   "source": [
    "# Testing \n"
   ],
   "metadata": {}
  },
  {
   "cell_type": "code",
   "execution_count": 94,
   "source": [
    "modell.score(x_test, y_test)"
   ],
   "outputs": [
    {
     "output_type": "execute_result",
     "data": {
      "text/plain": [
       "0.7167630057803468"
      ]
     },
     "metadata": {},
     "execution_count": 94
    }
   ],
   "metadata": {}
  },
  {
   "cell_type": "code",
   "execution_count": 95,
   "source": [
    "predicted = modell.predict(x_test)\r\n",
    "names = [\"1.25\", \"2.50\", \"3.75\", \"5.00\"]\r\n",
    "for x in range(len(predicted)):\r\n",
    "    print(\"Predicted Grade: \", names[predicted[x]], \"Data: \", x_test[x], \" Actual Grade: \", names[y_test[x]])\r\n",
    "    n = modell.predict(x_test)\r\n",
    "    "
   ],
   "outputs": [
    {
     "output_type": "stream",
     "name": "stdout",
     "text": [
      "Predicted Grade:  3.75 Data:  (3, 3, 1, 1, 0, 2)  Actual Grade:  3.75\n",
      "Predicted Grade:  3.75 Data:  (3, 1, 0, 1, 2, 2)  Actual Grade:  3.75\n",
      "Predicted Grade:  3.75 Data:  (0, 1, 2, 0, 2, 1)  Actual Grade:  3.75\n",
      "Predicted Grade:  3.75 Data:  (3, 0, 4, 0, 0, 1)  Actual Grade:  3.75\n",
      "Predicted Grade:  3.75 Data:  (3, 0, 1, 2, 2, 0)  Actual Grade:  3.75\n",
      "Predicted Grade:  3.75 Data:  (0, 3, 3, 0, 1, 0)  Actual Grade:  3.75\n",
      "Predicted Grade:  3.75 Data:  (0, 3, 3, 0, 1, 1)  Actual Grade:  3.75\n",
      "Predicted Grade:  3.75 Data:  (2, 0, 0, 1, 1, 1)  Actual Grade:  3.75\n",
      "Predicted Grade:  3.75 Data:  (3, 2, 0, 0, 2, 1)  Actual Grade:  3.75\n",
      "Predicted Grade:  3.75 Data:  (3, 3, 1, 1, 0, 1)  Actual Grade:  3.75\n",
      "Predicted Grade:  1.25 Data:  (0, 2, 0, 2, 0, 1)  Actual Grade:  3.75\n",
      "Predicted Grade:  1.25 Data:  (1, 1, 0, 2, 0, 1)  Actual Grade:  3.75\n",
      "Predicted Grade:  1.25 Data:  (1, 2, 0, 2, 0, 0)  Actual Grade:  5.00\n",
      "Predicted Grade:  3.75 Data:  (2, 1, 0, 1, 1, 1)  Actual Grade:  3.75\n",
      "Predicted Grade:  3.75 Data:  (2, 3, 1, 0, 0, 2)  Actual Grade:  3.75\n",
      "Predicted Grade:  3.75 Data:  (3, 1, 1, 0, 0, 0)  Actual Grade:  3.75\n",
      "Predicted Grade:  3.75 Data:  (3, 1, 2, 2, 1, 1)  Actual Grade:  3.75\n",
      "Predicted Grade:  3.75 Data:  (3, 3, 3, 0, 0, 2)  Actual Grade:  3.75\n",
      "Predicted Grade:  3.75 Data:  (0, 0, 3, 0, 2, 2)  Actual Grade:  3.75\n",
      "Predicted Grade:  1.25 Data:  (1, 2, 1, 2, 0, 1)  Actual Grade:  3.75\n",
      "Predicted Grade:  3.75 Data:  (3, 0, 4, 1, 0, 1)  Actual Grade:  3.75\n",
      "Predicted Grade:  3.75 Data:  (3, 3, 2, 0, 0, 2)  Actual Grade:  3.75\n",
      "Predicted Grade:  3.75 Data:  (1, 3, 3, 1, 1, 1)  Actual Grade:  3.75\n",
      "Predicted Grade:  3.75 Data:  (2, 1, 3, 1, 2, 2)  Actual Grade:  1.25\n",
      "Predicted Grade:  3.75 Data:  (2, 1, 2, 2, 1, 2)  Actual Grade:  2.50\n",
      "Predicted Grade:  5.00 Data:  (2, 1, 3, 2, 0, 0)  Actual Grade:  5.00\n",
      "Predicted Grade:  3.75 Data:  (2, 2, 1, 2, 1, 1)  Actual Grade:  3.75\n",
      "Predicted Grade:  3.75 Data:  (0, 3, 0, 2, 2, 2)  Actual Grade:  3.75\n",
      "Predicted Grade:  3.75 Data:  (0, 1, 0, 1, 2, 2)  Actual Grade:  3.75\n",
      "Predicted Grade:  3.75 Data:  (2, 1, 0, 2, 1, 1)  Actual Grade:  3.75\n",
      "Predicted Grade:  3.75 Data:  (1, 2, 0, 1, 1, 0)  Actual Grade:  2.50\n",
      "Predicted Grade:  3.75 Data:  (0, 2, 3, 0, 1, 0)  Actual Grade:  3.75\n",
      "Predicted Grade:  3.75 Data:  (1, 2, 1, 2, 2, 1)  Actual Grade:  3.75\n",
      "Predicted Grade:  3.75 Data:  (3, 0, 1, 2, 1, 2)  Actual Grade:  3.75\n",
      "Predicted Grade:  1.25 Data:  (0, 2, 2, 2, 2, 0)  Actual Grade:  1.25\n",
      "Predicted Grade:  3.75 Data:  (0, 3, 0, 2, 0, 2)  Actual Grade:  3.75\n",
      "Predicted Grade:  1.25 Data:  (1, 3, 1, 2, 0, 0)  Actual Grade:  1.25\n",
      "Predicted Grade:  3.75 Data:  (0, 2, 1, 1, 2, 1)  Actual Grade:  3.75\n",
      "Predicted Grade:  3.75 Data:  (2, 2, 0, 1, 2, 2)  Actual Grade:  1.25\n",
      "Predicted Grade:  3.75 Data:  (2, 1, 2, 1, 0, 2)  Actual Grade:  2.50\n",
      "Predicted Grade:  3.75 Data:  (0, 1, 0, 2, 2, 2)  Actual Grade:  3.75\n",
      "Predicted Grade:  3.75 Data:  (1, 3, 3, 1, 2, 1)  Actual Grade:  3.75\n",
      "Predicted Grade:  3.75 Data:  (3, 3, 1, 0, 1, 2)  Actual Grade:  3.75\n",
      "Predicted Grade:  3.75 Data:  (2, 2, 3, 2, 0, 2)  Actual Grade:  1.25\n",
      "Predicted Grade:  3.75 Data:  (3, 2, 1, 0, 1, 2)  Actual Grade:  3.75\n",
      "Predicted Grade:  3.75 Data:  (3, 3, 1, 1, 1, 1)  Actual Grade:  3.75\n",
      "Predicted Grade:  3.75 Data:  (0, 3, 3, 2, 2, 0)  Actual Grade:  3.75\n",
      "Predicted Grade:  3.75 Data:  (0, 2, 1, 0, 1, 0)  Actual Grade:  3.75\n",
      "Predicted Grade:  3.75 Data:  (2, 2, 1, 0, 1, 0)  Actual Grade:  3.75\n",
      "Predicted Grade:  3.75 Data:  (2, 1, 2, 1, 2, 0)  Actual Grade:  2.50\n",
      "Predicted Grade:  1.25 Data:  (0, 3, 1, 2, 0, 0)  Actual Grade:  3.75\n",
      "Predicted Grade:  3.75 Data:  (3, 2, 0, 0, 1, 2)  Actual Grade:  3.75\n",
      "Predicted Grade:  3.75 Data:  (3, 1, 0, 0, 2, 2)  Actual Grade:  3.75\n",
      "Predicted Grade:  1.25 Data:  (0, 0, 1, 2, 2, 0)  Actual Grade:  1.25\n",
      "Predicted Grade:  3.75 Data:  (0, 0, 0, 0, 1, 2)  Actual Grade:  3.75\n",
      "Predicted Grade:  3.75 Data:  (0, 3, 1, 0, 2, 2)  Actual Grade:  3.75\n",
      "Predicted Grade:  1.25 Data:  (3, 0, 4, 2, 0, 2)  Actual Grade:  3.75\n",
      "Predicted Grade:  3.75 Data:  (0, 0, 2, 1, 1, 1)  Actual Grade:  3.75\n",
      "Predicted Grade:  3.75 Data:  (0, 2, 1, 1, 2, 0)  Actual Grade:  1.25\n",
      "Predicted Grade:  3.75 Data:  (3, 1, 0, 0, 0, 0)  Actual Grade:  3.75\n",
      "Predicted Grade:  3.75 Data:  (1, 2, 1, 0, 0, 1)  Actual Grade:  3.75\n",
      "Predicted Grade:  3.75 Data:  (1, 0, 2, 1, 1, 0)  Actual Grade:  5.00\n",
      "Predicted Grade:  3.75 Data:  (3, 0, 0, 2, 2, 1)  Actual Grade:  3.75\n",
      "Predicted Grade:  3.75 Data:  (0, 1, 1, 0, 0, 0)  Actual Grade:  3.75\n",
      "Predicted Grade:  3.75 Data:  (3, 0, 1, 1, 2, 0)  Actual Grade:  3.75\n",
      "Predicted Grade:  3.75 Data:  (0, 0, 1, 0, 2, 0)  Actual Grade:  3.75\n",
      "Predicted Grade:  3.75 Data:  (2, 1, 2, 2, 2, 0)  Actual Grade:  2.50\n",
      "Predicted Grade:  3.75 Data:  (3, 2, 3, 0, 1, 1)  Actual Grade:  3.75\n",
      "Predicted Grade:  3.75 Data:  (3, 0, 2, 0, 1, 2)  Actual Grade:  3.75\n",
      "Predicted Grade:  3.75 Data:  (1, 3, 0, 1, 0, 0)  Actual Grade:  1.25\n",
      "Predicted Grade:  3.75 Data:  (2, 3, 2, 1, 1, 0)  Actual Grade:  1.25\n",
      "Predicted Grade:  3.75 Data:  (3, 0, 2, 0, 2, 2)  Actual Grade:  3.75\n",
      "Predicted Grade:  1.25 Data:  (0, 1, 1, 2, 0, 1)  Actual Grade:  3.75\n",
      "Predicted Grade:  3.75 Data:  (1, 3, 1, 1, 2, 1)  Actual Grade:  3.75\n",
      "Predicted Grade:  1.25 Data:  (0, 1, 3, 2, 2, 1)  Actual Grade:  3.75\n",
      "Predicted Grade:  3.75 Data:  (0, 3, 1, 1, 1, 2)  Actual Grade:  3.75\n",
      "Predicted Grade:  1.25 Data:  (3, 1, 0, 2, 0, 0)  Actual Grade:  1.25\n",
      "Predicted Grade:  3.75 Data:  (0, 3, 2, 1, 2, 0)  Actual Grade:  3.75\n",
      "Predicted Grade:  3.75 Data:  (2, 1, 3, 0, 1, 1)  Actual Grade:  3.75\n",
      "Predicted Grade:  1.25 Data:  (2, 1, 1, 2, 0, 1)  Actual Grade:  3.75\n",
      "Predicted Grade:  3.75 Data:  (3, 3, 0, 2, 0, 1)  Actual Grade:  3.75\n",
      "Predicted Grade:  3.75 Data:  (0, 2, 2, 0, 0, 0)  Actual Grade:  3.75\n",
      "Predicted Grade:  3.75 Data:  (3, 3, 2, 2, 1, 1)  Actual Grade:  3.75\n",
      "Predicted Grade:  3.75 Data:  (3, 3, 2, 1, 1, 1)  Actual Grade:  3.75\n",
      "Predicted Grade:  3.75 Data:  (3, 2, 2, 1, 0, 2)  Actual Grade:  1.25\n",
      "Predicted Grade:  3.75 Data:  (3, 2, 2, 2, 0, 1)  Actual Grade:  3.75\n",
      "Predicted Grade:  3.75 Data:  (0, 1, 1, 1, 1, 2)  Actual Grade:  3.75\n",
      "Predicted Grade:  3.75 Data:  (1, 2, 2, 0, 1, 2)  Actual Grade:  3.75\n",
      "Predicted Grade:  3.75 Data:  (1, 0, 1, 0, 0, 1)  Actual Grade:  3.75\n",
      "Predicted Grade:  3.75 Data:  (3, 0, 2, 1, 0, 1)  Actual Grade:  3.75\n",
      "Predicted Grade:  3.75 Data:  (1, 0, 0, 0, 1, 1)  Actual Grade:  3.75\n",
      "Predicted Grade:  3.75 Data:  (2, 0, 1, 0, 2, 0)  Actual Grade:  3.75\n",
      "Predicted Grade:  3.75 Data:  (2, 1, 3, 0, 2, 1)  Actual Grade:  3.75\n",
      "Predicted Grade:  3.75 Data:  (0, 2, 3, 0, 0, 1)  Actual Grade:  3.75\n",
      "Predicted Grade:  3.75 Data:  (2, 2, 2, 1, 2, 1)  Actual Grade:  3.75\n",
      "Predicted Grade:  3.75 Data:  (3, 1, 1, 0, 1, 2)  Actual Grade:  3.75\n",
      "Predicted Grade:  1.25 Data:  (2, 0, 3, 2, 1, 0)  Actual Grade:  1.25\n",
      "Predicted Grade:  3.75 Data:  (1, 3, 0, 2, 2, 0)  Actual Grade:  3.75\n",
      "Predicted Grade:  3.75 Data:  (0, 1, 2, 2, 2, 1)  Actual Grade:  3.75\n",
      "Predicted Grade:  3.75 Data:  (2, 0, 1, 1, 1, 0)  Actual Grade:  1.25\n",
      "Predicted Grade:  3.75 Data:  (0, 2, 3, 0, 2, 2)  Actual Grade:  3.75\n",
      "Predicted Grade:  3.75 Data:  (2, 0, 3, 0, 2, 0)  Actual Grade:  3.75\n",
      "Predicted Grade:  1.25 Data:  (3, 0, 4, 2, 0, 1)  Actual Grade:  3.75\n",
      "Predicted Grade:  3.75 Data:  (1, 0, 0, 1, 2, 2)  Actual Grade:  1.25\n",
      "Predicted Grade:  3.75 Data:  (3, 2, 2, 2, 1, 1)  Actual Grade:  3.75\n",
      "Predicted Grade:  3.75 Data:  (1, 2, 0, 2, 0, 2)  Actual Grade:  2.50\n",
      "Predicted Grade:  1.25 Data:  (0, 0, 3, 2, 1, 2)  Actual Grade:  1.25\n",
      "Predicted Grade:  1.25 Data:  (0, 3, 1, 2, 1, 0)  Actual Grade:  3.75\n",
      "Predicted Grade:  3.75 Data:  (1, 3, 2, 1, 2, 0)  Actual Grade:  1.25\n",
      "Predicted Grade:  3.75 Data:  (1, 0, 2, 0, 0, 1)  Actual Grade:  3.75\n",
      "Predicted Grade:  3.75 Data:  (0, 0, 0, 1, 2, 1)  Actual Grade:  3.75\n",
      "Predicted Grade:  3.75 Data:  (2, 1, 0, 0, 2, 2)  Actual Grade:  3.75\n",
      "Predicted Grade:  3.75 Data:  (2, 2, 2, 1, 0, 1)  Actual Grade:  3.75\n",
      "Predicted Grade:  3.75 Data:  (0, 0, 0, 0, 1, 0)  Actual Grade:  3.75\n",
      "Predicted Grade:  3.75 Data:  (2, 3, 3, 0, 0, 2)  Actual Grade:  3.75\n",
      "Predicted Grade:  3.75 Data:  (2, 0, 3, 1, 0, 0)  Actual Grade:  1.25\n",
      "Predicted Grade:  1.25 Data:  (2, 0, 0, 2, 0, 1)  Actual Grade:  3.75\n",
      "Predicted Grade:  3.75 Data:  (2, 0, 1, 2, 2, 2)  Actual Grade:  3.75\n",
      "Predicted Grade:  3.75 Data:  (1, 2, 3, 0, 2, 2)  Actual Grade:  3.75\n",
      "Predicted Grade:  3.75 Data:  (2, 1, 1, 0, 0, 1)  Actual Grade:  3.75\n",
      "Predicted Grade:  3.75 Data:  (1, 2, 1, 1, 0, 2)  Actual Grade:  2.50\n",
      "Predicted Grade:  3.75 Data:  (3, 3, 1, 0, 1, 1)  Actual Grade:  3.75\n",
      "Predicted Grade:  3.75 Data:  (1, 2, 0, 1, 0, 2)  Actual Grade:  2.50\n",
      "Predicted Grade:  1.25 Data:  (1, 2, 3, 2, 0, 2)  Actual Grade:  2.50\n",
      "Predicted Grade:  3.75 Data:  (2, 1, 0, 2, 2, 0)  Actual Grade:  3.75\n",
      "Predicted Grade:  3.75 Data:  (2, 3, 3, 1, 0, 2)  Actual Grade:  1.25\n",
      "Predicted Grade:  3.75 Data:  (3, 3, 0, 2, 1, 1)  Actual Grade:  3.75\n",
      "Predicted Grade:  3.75 Data:  (2, 1, 1, 1, 1, 0)  Actual Grade:  2.50\n",
      "Predicted Grade:  3.75 Data:  (0, 3, 3, 1, 0, 1)  Actual Grade:  3.75\n",
      "Predicted Grade:  3.75 Data:  (3, 1, 3, 1, 2, 2)  Actual Grade:  3.75\n",
      "Predicted Grade:  3.75 Data:  (0, 1, 3, 1, 2, 1)  Actual Grade:  3.75\n",
      "Predicted Grade:  3.75 Data:  (3, 3, 2, 1, 2, 1)  Actual Grade:  3.75\n",
      "Predicted Grade:  3.75 Data:  (0, 2, 0, 0, 0, 2)  Actual Grade:  3.75\n",
      "Predicted Grade:  5.00 Data:  (0, 0, 3, 1, 0, 0)  Actual Grade:  1.25\n",
      "Predicted Grade:  3.75 Data:  (2, 2, 1, 2, 2, 1)  Actual Grade:  3.75\n",
      "Predicted Grade:  3.75 Data:  (2, 1, 1, 2, 1, 2)  Actual Grade:  2.50\n",
      "Predicted Grade:  3.75 Data:  (2, 0, 3, 2, 2, 1)  Actual Grade:  3.75\n",
      "Predicted Grade:  3.75 Data:  (3, 0, 4, 1, 1, 0)  Actual Grade:  3.75\n",
      "Predicted Grade:  3.75 Data:  (1, 2, 3, 0, 1, 2)  Actual Grade:  3.75\n",
      "Predicted Grade:  3.75 Data:  (1, 3, 1, 1, 2, 2)  Actual Grade:  3.75\n",
      "Predicted Grade:  3.75 Data:  (1, 3, 3, 1, 1, 0)  Actual Grade:  1.25\n",
      "Predicted Grade:  3.75 Data:  (3, 2, 1, 0, 2, 0)  Actual Grade:  3.75\n",
      "Predicted Grade:  5.00 Data:  (0, 0, 1, 2, 0, 0)  Actual Grade:  1.25\n",
      "Predicted Grade:  3.75 Data:  (3, 0, 2, 0, 1, 1)  Actual Grade:  3.75\n",
      "Predicted Grade:  3.75 Data:  (2, 1, 3, 2, 2, 2)  Actual Grade:  1.25\n",
      "Predicted Grade:  3.75 Data:  (0, 0, 3, 0, 1, 1)  Actual Grade:  3.75\n",
      "Predicted Grade:  3.75 Data:  (1, 3, 2, 0, 1, 2)  Actual Grade:  3.75\n",
      "Predicted Grade:  1.25 Data:  (2, 2, 2, 2, 1, 0)  Actual Grade:  5.00\n",
      "Predicted Grade:  3.75 Data:  (0, 3, 0, 2, 2, 1)  Actual Grade:  3.75\n",
      "Predicted Grade:  3.75 Data:  (3, 0, 4, 0, 2, 0)  Actual Grade:  3.75\n",
      "Predicted Grade:  3.75 Data:  (2, 3, 3, 2, 0, 2)  Actual Grade:  1.25\n",
      "Predicted Grade:  3.75 Data:  (3, 2, 2, 0, 1, 0)  Actual Grade:  3.75\n",
      "Predicted Grade:  1.25 Data:  (0, 2, 3, 2, 1, 0)  Actual Grade:  1.25\n",
      "Predicted Grade:  3.75 Data:  (3, 3, 3, 1, 0, 1)  Actual Grade:  3.75\n",
      "Predicted Grade:  3.75 Data:  (1, 1, 1, 2, 1, 2)  Actual Grade:  2.50\n",
      "Predicted Grade:  3.75 Data:  (0, 2, 2, 1, 2, 0)  Actual Grade:  1.25\n",
      "Predicted Grade:  5.00 Data:  (2, 3, 3, 2, 0, 0)  Actual Grade:  1.25\n",
      "Predicted Grade:  3.75 Data:  (0, 3, 2, 2, 2, 0)  Actual Grade:  3.75\n",
      "Predicted Grade:  3.75 Data:  (1, 3, 0, 1, 1, 1)  Actual Grade:  3.75\n",
      "Predicted Grade:  3.75 Data:  (1, 1, 0, 0, 1, 1)  Actual Grade:  3.75\n",
      "Predicted Grade:  1.25 Data:  (0, 0, 2, 2, 1, 2)  Actual Grade:  1.25\n",
      "Predicted Grade:  3.75 Data:  (1, 0, 3, 0, 2, 1)  Actual Grade:  3.75\n",
      "Predicted Grade:  3.75 Data:  (3, 0, 0, 1, 2, 0)  Actual Grade:  3.75\n",
      "Predicted Grade:  3.75 Data:  (1, 3, 0, 2, 2, 1)  Actual Grade:  3.75\n",
      "Predicted Grade:  3.75 Data:  (3, 2, 3, 2, 1, 2)  Actual Grade:  1.25\n",
      "Predicted Grade:  3.75 Data:  (1, 0, 0, 1, 1, 1)  Actual Grade:  3.75\n",
      "Predicted Grade:  3.75 Data:  (2, 1, 0, 0, 1, 1)  Actual Grade:  3.75\n",
      "Predicted Grade:  3.75 Data:  (3, 3, 1, 0, 1, 0)  Actual Grade:  3.75\n",
      "Predicted Grade:  1.25 Data:  (0, 2, 1, 2, 1, 1)  Actual Grade:  3.75\n",
      "Predicted Grade:  3.75 Data:  (2, 2, 1, 1, 0, 0)  Actual Grade:  5.00\n",
      "Predicted Grade:  1.25 Data:  (3, 2, 0, 2, 0, 0)  Actual Grade:  1.25\n",
      "Predicted Grade:  3.75 Data:  (1, 1, 0, 1, 1, 0)  Actual Grade:  2.50\n",
      "Predicted Grade:  3.75 Data:  (1, 3, 2, 1, 0, 1)  Actual Grade:  3.75\n"
     ]
    }
   ],
   "metadata": {}
  }
 ],
 "metadata": {
  "kernelspec": {
   "display_name": "Python 3 (ipykernel)",
   "language": "python",
   "name": "python3"
  },
  "language_info": {
   "codemirror_mode": {
    "name": "ipython",
    "version": 3
   },
   "file_extension": ".py",
   "mimetype": "text/x-python",
   "name": "python",
   "nbconvert_exporter": "python",
   "pygments_lexer": "ipython3",
   "version": "3.8.11"
  }
 },
 "nbformat": 4,
 "nbformat_minor": 5
}